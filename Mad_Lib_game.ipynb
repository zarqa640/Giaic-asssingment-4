{
  "nbformat": 4,
  "nbformat_minor": 0,
  "metadata": {
    "colab": {
      "provenance": [],
      "authorship_tag": "ABX9TyOBg6foQMzAeXXCNZ5xYpTY",
      "include_colab_link": true
    },
    "kernelspec": {
      "name": "python3",
      "display_name": "Python 3"
    },
    "language_info": {
      "name": "python"
    }
  },
  "cells": [
    {
      "cell_type": "markdown",
      "metadata": {
        "id": "view-in-github",
        "colab_type": "text"
      },
      "source": [
        "<a href=\"https://colab.research.google.com/github/zarqa640/Giaic-asssingment-4/blob/main/Mad_Lib_game.ipynb\" target=\"_parent\"><img src=\"https://colab.research.google.com/assets/colab-badge.svg\" alt=\"Open In Colab\"/></a>"
      ]
    },
    {
      "cell_type": "markdown",
      "source": [
        "Mad Libs Game in Python"
      ],
      "metadata": {
        "id": "pXl55Y5k44bd"
      }
    },
    {
      "cell_type": "code",
      "source": [
        "# Get Input from the User\n",
        "place = input(\"Enter a place: \")\n",
        "animal = input(\"Enter an animal: \")\n",
        "object = input(\"Enter an object: \")\n",
        "#Create the Story Using f-strings\n",
        "story = (\n",
        "    f\"Today I went to the {place}. \"\n",
        "    f\"jumping over a {object}.\"\n",
        ")\n",
        "# Print the Story\n",
        "print(\"\\nHere’s your Mad Libs story!\")\n",
        "print(story)\n",
        "\n"
      ],
      "metadata": {
        "id": "iQFcoaAN5qYE"
      },
      "execution_count": null,
      "outputs": []
    }
  ]
}