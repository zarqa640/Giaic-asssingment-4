{
  "nbformat": 4,
  "nbformat_minor": 0,
  "metadata": {
    "colab": {
      "provenance": [],
      "authorship_tag": "ABX9TyPmd23FLZ+6SHmsxb+X7CBq",
      "include_colab_link": true
    },
    "kernelspec": {
      "name": "python3",
      "display_name": "Python 3"
    },
    "language_info": {
      "name": "python"
    }
  },
  "cells": [
    {
      "cell_type": "markdown",
      "metadata": {
        "id": "view-in-github",
        "colab_type": "text"
      },
      "source": [
        "<a href=\"https://colab.research.google.com/github/zarqa640/Giaic-asssingment-4/blob/main/Mad_Lib_game.ipynb\" target=\"_parent\"><img src=\"https://colab.research.google.com/assets/colab-badge.svg\" alt=\"Open In Colab\"/></a>"
      ]
    },
    {
      "cell_type": "markdown",
      "source": [
        "Mad Libs Game in Python"
      ],
      "metadata": {
        "id": "pXl55Y5k44bd"
      }
    },
    {
      "cell_type": "code",
      "source": [
        "# Get Input from the User\n",
        "place = input(\"Enter a place: \")\n",
        "animal = input(\"Enter an animal: \")\n",
        "object = input(\"Enter an object: \")\n",
        "#Create the Story Using f-strings\n",
        "story = (\n",
        "    f\"Today I went to the {place}. \"\n",
        "    f\"jumping over a {object}.\"\n",
        ")\n",
        "# Print the Story\n",
        "print(\"\\nHere’s your Mad Libs story!\")\n",
        "print(story)\n",
        "\n"
      ],
      "metadata": {
        "id": "iQFcoaAN5qYE"
      },
      "execution_count": null,
      "outputs": []
    },
    {
      "cell_type": "markdown",
      "source": [
        "# Guess the Number Game Python Project (computer)::**"
      ],
      "metadata": {
        "id": "tacb2SaNANAW"
      }
    },
    {
      "cell_type": "code",
      "source": [
        "import random\n",
        "\n",
        "def guess_the_number():\n",
        "    print(\"Welcome to the Guess the Number Game!\")\n",
        "    print(\"I'm thinking of a number between 1 and 100.\")\n",
        "\n",
        "    number = random.randint(1, 100)\n",
        "    guess = None\n",
        "    attempts = 0\n",
        "\n",
        "    while guess != number:\n",
        "        try:\n",
        "            guess = int(input(\"Make a guess: \"))\n",
        "            attempts += 1\n",
        "\n",
        "            if guess < number:\n",
        "                print(\"Too low.\")\n",
        "            elif guess > number:\n",
        "                print(\"Too high.\")\n",
        "            else:\n",
        "                print(f\"🎉 You got it in {attempts} attempts! The number was {number}.\")\n",
        "        except ValueError:\n",
        "            print(\"Please enter a valid number.\")\n",
        "\n",
        "# Start the game\n",
        "guess_the_number()\n"
      ],
      "metadata": {
        "id": "jvaT5-OCBPfe"
      },
      "execution_count": null,
      "outputs": []
    },
    {
      "cell_type": "markdown",
      "source": [
        "**Rock**, Paper, Scissors Game"
      ],
      "metadata": {
        "id": "1AGl6NSeD299"
      }
    },
    {
      "cell_type": "code",
      "source": [
        "#Rock, Paper, Scissors Game\n",
        "import random\n",
        "\n",
        "def play():\n",
        "    user = input(\"Choose rock, paper, or scissors: \").lower()\n",
        "    computer = random.choice(['rock', 'paper', 'scissors'])\n",
        "\n",
        "    print(f\"\\nYou chose: {user}\")\n",
        "    print(f\"Computer chose: {computer}\")\n",
        "\n",
        "    if user == computer:\n",
        "        return \"It's a tie!\"\n",
        "\n",
        "    if is_win(user, computer):\n",
        "        return \"You win! 🎉\"\n",
        "\n",
        "    return \"You lose! 😢\"\n",
        "\n",
        "def is_win(player, opponent):\n",
        "    # Return True if player beats opponent\n",
        "    return (\n",
        "        (player == 'rock' and opponent == 'scissors') or\n",
        "        (player == 'scissors' and opponent == 'paper') or\n",
        "        (player == 'paper' and opponent == 'rock')\n",
        "    )\n",
        "\n",
        "# Start the game\n",
        "print(play())\n"
      ],
      "metadata": {
        "id": "VHftevV-ED9v"
      },
      "execution_count": null,
      "outputs": []
    }
  ]
}