{
  "nbformat": 4,
  "nbformat_minor": 0,
  "metadata": {
    "colab": {
      "provenance": [],
      "authorship_tag": "ABX9TyNzgrGpSctskjBlxaEqThA8",
      "include_colab_link": true
    },
    "kernelspec": {
      "name": "python3",
      "display_name": "Python 3"
    },
    "language_info": {
      "name": "python"
    }
  },
  "cells": [
    {
      "cell_type": "markdown",
      "metadata": {
        "id": "view-in-github",
        "colab_type": "text"
      },
      "source": [
        "<a href=\"https://colab.research.google.com/github/zarqa640/Giaic-asssingment-4/blob/main/Mad_Lib_game.ipynb\" target=\"_parent\"><img src=\"https://colab.research.google.com/assets/colab-badge.svg\" alt=\"Open In Colab\"/></a>"
      ]
    },
    {
      "cell_type": "markdown",
      "source": [
        "Mad Libs Game in Python[link text](https://)"
      ],
      "metadata": {
        "id": "pXl55Y5k44bd"
      }
    },
    {
      "cell_type": "code",
      "source": [
        "# Get Input from the User\n",
        "place = input(\"Enter a place: \")\n",
        "animal = input(\"Enter an animal: \")\n",
        "object = input(\"Enter an object: \")\n",
        "#Create the Story Using f-strings\n",
        "story = (\n",
        "    f\"Today I went to the {place}. \"\n",
        "    f\"jumping over a {object}.\"\n",
        ")\n",
        "# Print the Story\n",
        "print(\"\\nHere’s your Mad Libs story!\")\n",
        "print(story)\n",
        "\n"
      ],
      "metadata": {
        "id": "iQFcoaAN5qYE"
      },
      "execution_count": null,
      "outputs": []
    },
    {
      "cell_type": "markdown",
      "source": [
        "# Guess the Number Game Python Project (computer)::**"
      ],
      "metadata": {
        "id": "tacb2SaNANAW"
      }
    },
    {
      "cell_type": "code",
      "source": [
        "import random\n",
        "\n",
        "def guess_the_number():\n",
        "    print(\"Welcome to the Guess the Number Game!\")\n",
        "    print(\"I'm thinking of a number between 1 and 100.\")\n",
        "\n",
        "    number = random.randint(1, 100)\n",
        "    guess = None\n",
        "    attempts = 0\n",
        "\n",
        "    while guess != number:\n",
        "        try:\n",
        "            guess = int(input(\"Make a guess: \"))\n",
        "            attempts += 1\n",
        "\n",
        "            if guess < number:\n",
        "                print(\"Too low.\")\n",
        "            elif guess > number:\n",
        "                print(\"Too high.\")\n",
        "            else:\n",
        "                print(f\"🎉 You got it in {attempts} attempts! The number was {number}.\")\n",
        "        except ValueError:\n",
        "            print(\"Please enter a valid number.\")\n",
        "\n",
        "# Start the game\n",
        "guess_the_number()\n"
      ],
      "metadata": {
        "id": "jvaT5-OCBPfe"
      },
      "execution_count": null,
      "outputs": []
    },
    {
      "cell_type": "markdown",
      "source": [
        "# Rock, Paper, Scissors Game"
      ],
      "metadata": {
        "id": "1AGl6NSeD299"
      }
    },
    {
      "cell_type": "code",
      "source": [
        "#Rock, Paper, Scissors Game\n",
        "import random\n",
        "\n",
        "def play():\n",
        "    user = input(\"Choose rock, paper, or scissors: \").lower()\n",
        "    computer = random.choice(['rock', 'paper', 'scissors'])\n",
        "\n",
        "    print(f\"\\nYou chose: {user}\")\n",
        "    print(f\"Computer chose: {computer}\")\n",
        "\n",
        "    if user == computer:\n",
        "        return \"It's a tie!\"\n",
        "\n",
        "    if is_win(user, computer):\n",
        "        return \"You win! 🎉\"\n",
        "\n",
        "    return \"You lose! 😢\"\n",
        "\n",
        "def is_win(player, opponent):\n",
        "    # Return True if player beats opponent\n",
        "    return (\n",
        "        (player == 'rock' and opponent == 'scissors') or\n",
        "        (player == 'scissors' and opponent == 'paper') or\n",
        "        (player == 'paper' and opponent == 'rock')\n",
        "    )\n",
        "\n",
        "# Start the game\n",
        "print(play())\n"
      ],
      "metadata": {
        "id": "VHftevV-ED9v"
      },
      "execution_count": null,
      "outputs": []
    },
    {
      "cell_type": "markdown",
      "source": [
        " Hangman Game in **Python**"
      ],
      "metadata": {
        "id": "btgPloG6Feho"
      }
    },
    {
      "cell_type": "code",
      "source": [
        "import random\n",
        "import string\n",
        "\n",
        "def get_valid_word(word_list):\n",
        "    word = random.choice(word_list)\n",
        "    while '-' in word or ' ' in word:\n",
        "        word = random.choice(word_list)\n",
        "    return word.upper()\n",
        "\n",
        "def hangman():\n",
        "    words = [\"python\", \"hangman\", \"developer\", \"challenge\", \"function\", \"variable\"]\n",
        "    word = get_valid_word(words)\n",
        "    word_letters = set(word)  # letters in the word\n",
        "    alphabet = set(string.ascii_uppercase)\n",
        "    used_letters = set()  # what the user has guessed\n",
        "\n",
        "    lives = 6\n",
        "\n",
        "    print(\"Welcome to Hangman!\")\n",
        "\n",
        "    # Game loop\n",
        "    while len(word_letters) > 0 and lives > 0:\n",
        "        print(f\"\\nYou have {lives} lives left. Used letters: {' '.join(used_letters)}\")\n",
        "\n",
        "        # What current word looks like\n",
        "        word_list = [letter if letter in used_letters else '_' for letter in word]\n",
        "        print(\"Current word:\", ' '.join(word_list))\n",
        "\n",
        "        user_letter = input(\"Guess a letter: \").upper()\n",
        "        if user_letter in alphabet - used_letters:\n",
        "            used_letters.add(user_letter)\n",
        "            if user_letter in word_letters:\n",
        "                word_letters.remove(user_letter)\n",
        "                print(\"Good guess!\")\n",
        "            else:\n",
        "                lives -= 1\n",
        "                print(\"Oops! That letter is not in the word.\")\n",
        "        elif user_letter in used_letters:\n",
        "            print(\"You already guessed that letter.\")\n",
        "        else:\n",
        "            print(\"Invalid character. Please guess a letter.\")\n",
        "\n",
        "    # Game Over\n",
        "    if lives == 0:\n",
        "        print(f\"\\nYou died! The word was {word}.\")\n",
        "    else:\n",
        "        print(f\"\\nYou guessed the word {word}! 🎉\")\n",
        "\n",
        "# Start the game\n",
        "hangman()\n"
      ],
      "metadata": {
        "id": "fbxzoJC5F3hR"
      },
      "execution_count": null,
      "outputs": []
    },
    {
      "cell_type": "markdown",
      "source": [
        "# Countdown Timer in Python"
      ],
      "metadata": {
        "id": "CYnBQm-3GjaY"
      }
    },
    {
      "cell_type": "code",
      "source": [
        "import time\n",
        "\n",
        "def countdown_timer():\n",
        "    seconds = int(input(\"Enter the time in seconds: \"))\n",
        "\n",
        "    while seconds > 0:\n",
        "        mins = seconds // 60\n",
        "        secs = seconds % 60\n",
        "        time_format = f\"{mins:02d}:{secs:02d}\"\n",
        "        print(time_format, end='\\r')  # '\\r' keeps it on the same line\n",
        "        time.sleep(1)\n",
        "        seconds -= 1\n",
        "\n",
        "    print(\"⏰ Time's up!\")\n",
        "\n",
        "# Start the countdown\n",
        "countdown_timer()\n"
      ],
      "metadata": {
        "id": "svNNe1S_GuwX"
      },
      "execution_count": null,
      "outputs": []
    }
  ]
}